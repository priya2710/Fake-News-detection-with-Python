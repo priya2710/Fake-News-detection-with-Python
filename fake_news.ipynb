{
 "cells": [
  {
   "cell_type": "code",
   "execution_count": 1,
   "metadata": {},
   "outputs": [],
   "source": [
    "import numpy as np\n",
    "import pandas as pd\n",
    "import itertools\n",
    "from sklearn.model_selection import train_test_split\n",
    "from sklearn.feature_extraction.text import TfidfVectorizer\n",
    "from sklearn.linear_model import PassiveAggressiveClassifier\n",
    "from sklearn.metrics import accuracy_score, confusion_matrix"
   ]
  },
  {
   "cell_type": "code",
   "execution_count": 9,
   "metadata": {},
   "outputs": [],
   "source": [
    "df=pd.read_csv(r'C:\\Users\\S Rani\\Desktop\\news.csv')"
   ]
  },
  {
   "cell_type": "code",
   "execution_count": 10,
   "metadata": {},
   "outputs": [
    {
     "name": "stdout",
     "output_type": "stream",
     "text": [
      "      Unnamed: 0                                              title  \\\n",
      "0           8476                       You Can Smell Hillary’s Fear   \n",
      "1          10294  Watch The Exact Moment Paul Ryan Committed Pol...   \n",
      "2           3608        Kerry to go to Paris in gesture of sympathy   \n",
      "3          10142  Bernie supporters on Twitter erupt in anger ag...   \n",
      "4            875   The Battle of New York: Why This Primary Matters   \n",
      "5           6903                                        Tehran, USA   \n",
      "6           7341  Girl Horrified At What She Watches Boyfriend D...   \n",
      "7             95                  ‘Britain’s Schindler’ Dies at 106   \n",
      "8           4869  Fact check: Trump and Clinton at the 'commande...   \n",
      "9           2909  Iran reportedly makes new push for uranium con...   \n",
      "10          1357  With all three Clintons in Iowa, a glimpse at ...   \n",
      "11           988  Donald Trump’s Shockingly Weak Delegate Game S...   \n",
      "12          7041  Strong Solar Storm, Tech Risks Today | S0 News...   \n",
      "13          7623       10 Ways America Is Preparing for World War 3   \n",
      "14          1571                   Trump takes on Cruz, but lightly   \n",
      "15          4739                         How women lead differently   \n",
      "16          7737  Shocking! Michele Obama & Hillary Caught Glamo...   \n",
      "17          8716  Hillary Clinton in HUGE Trouble After America ...   \n",
      "18          3304  What's in that Iran bill that Obama doesn't like?   \n",
      "19          3078  The 1 chart that explains everything you need ...   \n",
      "20          2517  The slippery slope to Trump’s proposed ban on ...   \n",
      "21         10348  Episode #160 – SUNDAY WIRE: ‘Hail to the Deplo...   \n",
      "22           778  Hillary Clinton Makes A Bipartisan Appeal on S...   \n",
      "23          3300  New Senate majority leader’s main goal for GOP...   \n",
      "24          6155              ‘Inferno’ and the Overpopulation Myth   \n",
      "25           636  Anti-Trump forces seek last-ditch delegate revolt   \n",
      "26           755  Sanders Trounces Clinton in W. Va. -- But Will...   \n",
      "27           626  Donald Trump Is Changing His Campaign Slogan t...   \n",
      "28           691  Pure chaos: Donald Trump’s campaign management...   \n",
      "29          5743  Syrian War Report – November 1, 2016: Syrian M...   \n",
      "...          ...                                                ...   \n",
      "6305        6457  Colin Kaepernick hosts ‘Know Your Rights’ camp...   \n",
      "6306        7030  Wikileaks Emails Disclose Aliens Linked to Vat...   \n",
      "6307        9013  US abstains from UN vote calling for end to Cu...   \n",
      "6308        9509  West Ham fans laud aerodynamic properties of n...   \n",
      "6309        3825      How the Obama White House runs foreign policy   \n",
      "6310        4515  ISIS claims responsibility for Garland, Texas,...   \n",
      "6311        2747  The “blame the left” crew: What the right’s ne...   \n",
      "6312        6516  ADHD NATION: How Big Pharma Created the ADHD E...   \n",
      "6313        9636  Donald Trump claims the election will be 'rigg...   \n",
      "6314        7398  REPORT: Dirty Reporter Blackmails Montel… Help...   \n",
      "6315        3717  Police Arrest Suspect In Charleston Church Sho...   \n",
      "6316        5205  Donald Trump’s collapse was caused by one big ...   \n",
      "6317        6696  FINA suspends Russian swimmer for 8 years over...   \n",
      "6318        7991  BREAKING : Hillary Campaign Manager Deletes hi...   \n",
      "6319        1303  Why Ted Cruz Has the Most to Lose in New Hamps...   \n",
      "6320        9051  “Nothing Good Can Come of This Election”–and T...   \n",
      "6321       10200   List of Republicans opposing Trump | OffGuardian   \n",
      "6322       10009  Putin: Use of 'mythical' Russian military thre...   \n",
      "6323        4214  Bernie Sanders says private meeting with Pope ...   \n",
      "6324        2316  Alabama Lawmaker: Same-Sex Couples Don’t Deser...   \n",
      "6325        8411  Will the Media Reset After the Election or Are...   \n",
      "6326        6143  DOJ COMPLAINT: Comey Under Fire Over Partisan ...   \n",
      "6327        3262  GOP Senator David Perdue Jokes About Praying f...   \n",
      "6328        9337  Radio Derb Is On The Air–Leonardo And Brazil’s...   \n",
      "6329        8737  Assange claims ‘crazed’ Clinton campaign tried...   \n",
      "6330        4490  State Department says it can't find emails fro...   \n",
      "6331        8062  The ‘P’ in PBS Should Stand for ‘Plutocratic’ ...   \n",
      "6332        8622  Anti-Trump Protesters Are Tools of the Oligarc...   \n",
      "6333        4021  In Ethiopia, Obama seeks progress on peace, se...   \n",
      "6334        4330  Jeb Bush Is Suddenly Attacking Trump. Here's W...   \n",
      "\n",
      "                                                   text label  \n",
      "0     Daniel Greenfield, a Shillman Journalism Fello...  FAKE  \n",
      "1     Google Pinterest Digg Linkedin Reddit Stumbleu...  FAKE  \n",
      "2     U.S. Secretary of State John F. Kerry said Mon...  REAL  \n",
      "3     — Kaydee King (@KaydeeKing) November 9, 2016 T...  FAKE  \n",
      "4     It's primary day in New York and front-runners...  REAL  \n",
      "5       \\nI’m not an immigrant, but my grandparents ...  FAKE  \n",
      "6     Share This Baylee Luciani (left), Screenshot o...  FAKE  \n",
      "7     A Czech stockbroker who saved more than 650 Je...  REAL  \n",
      "8     Hillary Clinton and Donald Trump made some ina...  REAL  \n",
      "9     Iranian negotiators reportedly have made a las...  REAL  \n",
      "10    CEDAR RAPIDS, Iowa — “I had one of the most wo...  REAL  \n",
      "11    Donald Trump’s organizational problems have go...  REAL  \n",
      "12    Click Here To Learn More About Alexandra's Per...  FAKE  \n",
      "13    October 31, 2016 at 4:52 am \\nPretty factual e...  FAKE  \n",
      "14    Killing Obama administration rules, dismantlin...  REAL  \n",
      "15    As more women move into high offices, they oft...  REAL  \n",
      "16    Shocking! Michele Obama & Hillary Caught Glamo...  FAKE  \n",
      "17    0 \\nHillary Clinton has barely just lost the p...  FAKE  \n",
      "18    Washington (CNN) For months, the White House a...  REAL  \n",
      "19    While paging through Pew's best data visualiza...  REAL  \n",
      "20    With little fanfare this fall, the New York de...  REAL  \n",
      "21    November 13, 2016 By 21wire Leave a Comment \\n...  FAKE  \n",
      "22    Hillary Clinton told a Staten Island crowd tod...  REAL  \n",
      "23    Mitch McConnell has an unusual admonition for ...  REAL  \n",
      "24    Mises.org November 1, 2016 Inferno is a great ...  FAKE  \n",
      "25    Washington (CNN) The faction of the GOP that i...  REAL  \n",
      "26    Meanwhile, Democrat Bernie Sanders picked up m...  REAL  \n",
      "27    After a week of nonstop criticism from Democra...  REAL  \n",
      "28    If you want a glimpse into a presidential cand...  REAL  \n",
      "29    Syrian War Report – October 31, 2016: Al-Nusra...  FAKE  \n",
      "...                                                 ...   ...  \n",
      "6305  Print \\n[Ed. – Now teaching the gospel of raci...  FAKE  \n",
      "6306  Sound too “strange” to be true? We have proof!...  FAKE  \n",
      "6307  US abstains from UN vote calling for end to Cu...  FAKE  \n",
      "6308  Tuesday 1 November 2016 by Formelia Alberthine...  FAKE  \n",
      "6309  When Susan E. Rice took over as President Obam...  REAL  \n",
      "6310  (CNN) ISIS has claimed responsibility for the ...  REAL  \n",
      "6311  It was inevitable that liberals would end up b...  REAL  \n",
      "6312  By Kalee Brown\\nWhile I was at university, man...  FAKE  \n",
      "6313  Email \\nDonald Trump is again riling up his vo...  FAKE  \n",
      "6314  BREAKING: Trump Jumps in FL, Takes 4 Point Lea...  FAKE  \n",
      "6315  Police in Charleston, S.C., say a man they sus...  REAL  \n",
      "6316  Silver of FiveThirtyEight.com has laid out fou...  REAL  \n",
      "6317  This post was originally published on this sit...  FAKE  \n",
      "6318  BREAKING : Hillary Campaign Manager Deletes hi...  FAKE  \n",
      "6319  Ted Cruz took first prize in the Iowa caucuses...  REAL  \n",
      "6320  Posted on November 4, 2016 by Charles Hugh Smi...  FAKE  \n",
      "6321  Charlie Baker , Massachusetts (2015–present)[3...  FAKE  \n",
      "6322  vladimir putin , Valdai , sochi , RBTH Daily R...  FAKE  \n",
      "6323  ROME —  U.S. Democratic presidential candidate...  REAL  \n",
      "6324  Most conservatives who oppose marriage equalit...  REAL  \n",
      "6325  Written by Peter Van Buren   venerable New Yor...  FAKE  \n",
      "6326  DOJ COMPLAINT: Comey Under Fire Over Partisan ...  FAKE  \n",
      "6327  The freshman senator from Georgia quoted scrip...  REAL  \n",
      "6328                                                     FAKE  \n",
      "6329  Julian Assange has claimed the Hillary Clinton...  FAKE  \n",
      "6330  The State Department told the Republican Natio...  REAL  \n",
      "6331  The ‘P’ in PBS Should Stand for ‘Plutocratic’ ...  FAKE  \n",
      "6332   Anti-Trump Protesters Are Tools of the Oligar...  FAKE  \n",
      "6333  ADDIS ABABA, Ethiopia —President Obama convene...  REAL  \n",
      "6334  Jeb Bush Is Suddenly Attacking Trump. Here's W...  REAL  \n",
      "\n",
      "[6335 rows x 4 columns]\n"
     ]
    }
   ],
   "source": [
    "print(df)"
   ]
  },
  {
   "cell_type": "code",
   "execution_count": 13,
   "metadata": {},
   "outputs": [
    {
     "data": {
      "text/plain": [
       "(6335, 4)"
      ]
     },
     "execution_count": 13,
     "metadata": {},
     "output_type": "execute_result"
    }
   ],
   "source": [
    "df.shape"
   ]
  },
  {
   "cell_type": "code",
   "execution_count": 14,
   "metadata": {},
   "outputs": [
    {
     "data": {
      "text/html": [
       "<div>\n",
       "<style scoped>\n",
       "    .dataframe tbody tr th:only-of-type {\n",
       "        vertical-align: middle;\n",
       "    }\n",
       "\n",
       "    .dataframe tbody tr th {\n",
       "        vertical-align: top;\n",
       "    }\n",
       "\n",
       "    .dataframe thead th {\n",
       "        text-align: right;\n",
       "    }\n",
       "</style>\n",
       "<table border=\"1\" class=\"dataframe\">\n",
       "  <thead>\n",
       "    <tr style=\"text-align: right;\">\n",
       "      <th></th>\n",
       "      <th>Unnamed: 0</th>\n",
       "      <th>title</th>\n",
       "      <th>text</th>\n",
       "      <th>label</th>\n",
       "    </tr>\n",
       "  </thead>\n",
       "  <tbody>\n",
       "    <tr>\n",
       "      <th>0</th>\n",
       "      <td>8476</td>\n",
       "      <td>You Can Smell Hillary’s Fear</td>\n",
       "      <td>Daniel Greenfield, a Shillman Journalism Fello...</td>\n",
       "      <td>FAKE</td>\n",
       "    </tr>\n",
       "    <tr>\n",
       "      <th>1</th>\n",
       "      <td>10294</td>\n",
       "      <td>Watch The Exact Moment Paul Ryan Committed Pol...</td>\n",
       "      <td>Google Pinterest Digg Linkedin Reddit Stumbleu...</td>\n",
       "      <td>FAKE</td>\n",
       "    </tr>\n",
       "    <tr>\n",
       "      <th>2</th>\n",
       "      <td>3608</td>\n",
       "      <td>Kerry to go to Paris in gesture of sympathy</td>\n",
       "      <td>U.S. Secretary of State John F. Kerry said Mon...</td>\n",
       "      <td>REAL</td>\n",
       "    </tr>\n",
       "    <tr>\n",
       "      <th>3</th>\n",
       "      <td>10142</td>\n",
       "      <td>Bernie supporters on Twitter erupt in anger ag...</td>\n",
       "      <td>— Kaydee King (@KaydeeKing) November 9, 2016 T...</td>\n",
       "      <td>FAKE</td>\n",
       "    </tr>\n",
       "    <tr>\n",
       "      <th>4</th>\n",
       "      <td>875</td>\n",
       "      <td>The Battle of New York: Why This Primary Matters</td>\n",
       "      <td>It's primary day in New York and front-runners...</td>\n",
       "      <td>REAL</td>\n",
       "    </tr>\n",
       "  </tbody>\n",
       "</table>\n",
       "</div>"
      ],
      "text/plain": [
       "   Unnamed: 0                                              title  \\\n",
       "0        8476                       You Can Smell Hillary’s Fear   \n",
       "1       10294  Watch The Exact Moment Paul Ryan Committed Pol...   \n",
       "2        3608        Kerry to go to Paris in gesture of sympathy   \n",
       "3       10142  Bernie supporters on Twitter erupt in anger ag...   \n",
       "4         875   The Battle of New York: Why This Primary Matters   \n",
       "\n",
       "                                                text label  \n",
       "0  Daniel Greenfield, a Shillman Journalism Fello...  FAKE  \n",
       "1  Google Pinterest Digg Linkedin Reddit Stumbleu...  FAKE  \n",
       "2  U.S. Secretary of State John F. Kerry said Mon...  REAL  \n",
       "3  — Kaydee King (@KaydeeKing) November 9, 2016 T...  FAKE  \n",
       "4  It's primary day in New York and front-runners...  REAL  "
      ]
     },
     "execution_count": 14,
     "metadata": {},
     "output_type": "execute_result"
    }
   ],
   "source": [
    "df.head()"
   ]
  },
  {
   "cell_type": "code",
   "execution_count": 20,
   "metadata": {},
   "outputs": [],
   "source": [
    "x_train,x_test,y_train,y_test=train_test_split(df['text'],df['label'],test_size=0.2, random_state=7)"
   ]
  },
  {
   "cell_type": "code",
   "execution_count": 21,
   "metadata": {},
   "outputs": [],
   "source": [
    "tfidf_vectorizer=TfidfVectorizer(stop_words='english', max_df=0.7)\n",
    "tfidf_train=tfidf_vectorizer.fit_transform(x_train) \n",
    "tfidf_test=tfidf_vectorizer.transform(x_test)"
   ]
  },
  {
   "cell_type": "code",
   "execution_count": 22,
   "metadata": {},
   "outputs": [
    {
     "name": "stdout",
     "output_type": "stream",
     "text": [
      "Accuracy: 92.82%\n"
     ]
    }
   ],
   "source": [
    "pac=PassiveAggressiveClassifier(max_iter=50)\n",
    "pac.fit(tfidf_train,y_train)\n",
    "y_pred=pac.predict(tfidf_test)\n",
    "score=accuracy_score(y_test,y_pred)\n",
    "print(f'Accuracy: {round(score*100,2)}%')"
   ]
  },
  {
   "cell_type": "code",
   "execution_count": 23,
   "metadata": {},
   "outputs": [
    {
     "data": {
      "text/plain": [
       "array([[590,  48],\n",
       "       [ 43, 586]], dtype=int64)"
      ]
     },
     "execution_count": 23,
     "metadata": {},
     "output_type": "execute_result"
    }
   ],
   "source": [
    "confusion_matrix(y_test,y_pred, labels=['FAKE','REAL'])"
   ]
  },
  {
   "cell_type": "code",
   "execution_count": null,
   "metadata": {},
   "outputs": [],
   "source": []
  }
 ],
 "metadata": {
  "kernelspec": {
   "display_name": "Python 3",
   "language": "python",
   "name": "python3"
  },
  "language_info": {
   "codemirror_mode": {
    "name": "ipython",
    "version": 3
   },
   "file_extension": ".py",
   "mimetype": "text/x-python",
   "name": "python",
   "nbconvert_exporter": "python",
   "pygments_lexer": "ipython3",
   "version": "3.7.3"
  }
 },
 "nbformat": 4,
 "nbformat_minor": 2
}
